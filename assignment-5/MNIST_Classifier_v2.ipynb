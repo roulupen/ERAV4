{
  "cells": [
    {
      "cell_type": "markdown",
      "metadata": {},
      "source": [
        "# MNIST Handwritten Digit Classification\n",
        "\n",
        "## Overview\n",
        "This notebook implements a Convolutional Neural Network (CNN) for classifying handwritten digits from the MNIST dataset. The MNIST dataset contains 60,000 training images and 10,000 test images of handwritten digits (0-9), each 28x28 pixels in grayscale.\n",
        "\n",
        "## Assignment Goals\n",
        "- Build a lightweight CNN model with fewer than 20k parameters\n",
        "- Achieve high accuracy (>99.4%) on the MNIST test set in less than 20epoch\n",
        "- Implement proper data augmentation and regularization techniques\n",
        "- Visualize training progress and model performance"
      ]
    },
    {
      "cell_type": "markdown",
      "metadata": {},
      "source": [
        "## Import Required Libraries\n",
        "\n",
        "We'll import all the necessary libraries for building and training our CNN model:\n",
        "- **PyTorch**: Core deep learning framework\n",
        "- **torchvision**: For datasets and image transforms\n",
        "- **matplotlib**: For visualization\n",
        "- **torchsummary**: For model paramter summerization\n"
      ]
    },
    {
      "cell_type": "code",
      "execution_count": 1,
      "metadata": {
        "id": "dPLHDfvR710P"
      },
      "outputs": [],
      "source": [
        "# Import core PyTorch libraries\n",
        "import torch\n",
        "import torch.nn as nn\n",
        "import torch.nn.functional as F\n",
        "import torch.optim as optim\n",
        "\n",
        "# Import vision libraries for datasets and transforms\n",
        "from torchvision import datasets, transforms\n",
        "from torch.utils.data import DataLoader\n",
        "\n",
        "# Import additional libraries for visualization and utilities\n",
        "import matplotlib.pyplot as plt\n",
        "import numpy as np\n",
        "from tqdm import tqdm\n",
        "import os\n",
        "\n",
        "\n",
        "from torchsummary import summary\n",
        "from TrainingHelper import TrainingHelper\n",
        "from Visualization import Visualization"
      ]
    },
    {
      "cell_type": "markdown",
      "metadata": {},
      "source": [
        "## Device Setup and GPU Detection\n",
        "\n",
        "We'll check for available compute devices in order of preference:\n",
        "1. **CUDA** (NVIDIA GPUs) - Best performance for deep learning\n",
        "2. **MPS** (Apple Silicon Metal) - Optimized for Mac M1/M2/M3 chips\n",
        "3. **CPU** - Fallback option for compatibility\n",
        "\n",
        "This ensures optimal performance across different hardware configurations.\n"
      ]
    },
    {
      "cell_type": "code",
      "execution_count": 2,
      "metadata": {
        "colab": {
          "base_uri": "https://localhost:8080/"
        },
        "id": "dlBH9LSD76TV",
        "outputId": "0c073531-cd21-44fc-ef8f-84a7a91d6d56"
      },
      "outputs": [
        {
          "name": "stdout",
          "output_type": "stream",
          "text": [
            "✅ Using Apple Silicon GPU (Metal Performance Shaders)\n",
            "Device selected: mps\n",
            "🌱 Random seed set to 42\n"
          ]
        }
      ],
      "source": [
        "# Set the device for training\n",
        "device = TrainingHelper.get_device()\n",
        "print(f\"Device selected: {device}\")\n",
        "\n",
        "# Set the seed for reproducibility\n",
        "TrainingHelper.set_seed(42)"
      ]
    },
    {
      "cell_type": "markdown",
      "metadata": {},
      "source": [
        "## Data Preprocessing and Augmentation\n",
        "\n",
        "### Training Transforms\n",
        "We apply several augmentation techniques to increase dataset diversity and improve model generalization:\n",
        "- **RandomRotation(10°)**: Slight rotations to handle natural writing variations\n",
        "- **RandomAffine**: Translation, scaling, and shearing transforms\n",
        "- **ColorJitter**: Brightness and contrast variations\n",
        "- **Normalization**: Using MNIST statistics (mean=0.1307, std=0.3081)\n",
        "\n",
        "### Test Transforms  \n",
        "For testing, we only apply normalization to ensure consistent preprocessing while maintaining reproducible results.\n"
      ]
    },
    {
      "cell_type": "code",
      "execution_count": 3,
      "metadata": {
        "id": "4XjL7RB-8Cch"
      },
      "outputs": [],
      "source": [
        "# Define data transformations for training (with augmentation)\n",
        "train_transform = transforms.Compose([\n",
        "    transforms.RandomRotation(5),\n",
        "    transforms.RandomAffine(degrees=0, translate=(0.05, 0.05), scale=(0.9, 1.1), shear=10),\n",
        "    transforms.ColorJitter(brightness=0.1, contrast=0.1),\n",
        "    transforms.ToTensor(),\n",
        "    transforms.Normalize((0.1307,), (0.3081,))\n",
        "])\n",
        "\n",
        "# Define data transformations for testing (no augmentation)\n",
        "test_transform = transforms.Compose([\n",
        "    transforms.ToTensor(),\n",
        "    transforms.Normalize((0.1307,), (0.3081,))\n",
        "])"
      ]
    },
    {
      "cell_type": "markdown",
      "metadata": {},
      "source": [
        "## Dataset Loading and Data Loaders\n",
        "\n",
        "We'll download and prepare the MNIST dataset with appropriate batch sizes for training:\n",
        "- **Batch size**: 32 (balances memory usage and gradient stability)\n",
        "- **Shuffle**: Training data shuffled for better convergence\n",
        "- **Workers**: Multiple workers for parallel data loading\n"
      ]
    },
    {
      "cell_type": "code",
      "execution_count": 4,
      "metadata": {
        "colab": {
          "base_uri": "https://localhost:8080/"
        },
        "id": "O-WzGcRY8E32",
        "outputId": "677e5dd4-a313-413a-8b22-e8e6b1ed5ffc"
      },
      "outputs": [
        {
          "name": "stdout",
          "output_type": "stream",
          "text": [
            "Training samples: 60,000\n",
            "Test samples: 10,000\n",
            "Number of classes: 10\n",
            "Image shape: torch.Size([1, 28, 28])\n"
          ]
        }
      ],
      "source": [
        "# Load MNIST datasets with transforms\n",
        "train_dataset = datasets.MNIST(\n",
        "    root='./data',              # Directory to store/load data\n",
        "    train=True,                 # Load training set\n",
        "    download=True,              # Download if not present\n",
        "    transform=train_transform   # Apply training transforms\n",
        ")\n",
        "\n",
        "test_dataset = datasets.MNIST(\n",
        "    root='./data',              # Directory to store/load data\n",
        "    train=False,                # Load test set\n",
        "    download=True,              # Download if not present  \n",
        "    transform=test_transform    # Apply test transforms\n",
        ")\n",
        "\n",
        "# Create data loaders for batch processing\n",
        "train_loader = DataLoader(\n",
        "    train_dataset, \n",
        "    batch_size=32,              # Process 32 images per batch\n",
        "    shuffle=True,               # Randomize order for each epoch\n",
        "    num_workers=2,              # Parallel data loading\n",
        "    pin_memory=True if device.type != 'cpu' else False  # Optimize GPU memory transfer\n",
        ")\n",
        "\n",
        "test_loader = DataLoader(\n",
        "    test_dataset, \n",
        "    batch_size=32,              # Same batch size for consistency\n",
        "    shuffle=False,              # Keep order for reproducible results\n",
        "    num_workers=2,              # Parallel data loading\n",
        "    pin_memory=True if device.type != 'cpu' else False  # Optimize GPU memory transfer\n",
        ")\n",
        "\n",
        "print(f\"Training samples: {len(train_dataset):,}\")\n",
        "print(f\"Test samples: {len(test_dataset):,}\")\n",
        "print(f\"Number of classes: {len(train_dataset.classes)}\")\n",
        "print(f\"Image shape: {train_dataset[0][0].shape}\")"
      ]
    },
    {
      "cell_type": "markdown",
      "metadata": {},
      "source": [
        "## Data Visualization and Exploration\n",
        "\n",
        "Let's examine our training data to understand what we're working with:\n",
        "- **Sample Images**: Visualize a batch of training images\n",
        "- **Data Shape**: Confirm tensor dimensions (batch_size, channels, height, width)  \n",
        "- **Label Distribution**: Understand class balance in the dataset\n",
        "- **Augmentation Effects**: See how data transforms affect the images\n",
        "\n",
        "This visualization helps ensure our data loading pipeline is working correctly and gives us insight into the dataset characteristics.\n"
      ]
    },
    {
      "cell_type": "code",
      "execution_count": 5,
      "metadata": {
        "colab": {
          "base_uri": "https://localhost:8080/",
          "height": 481
        },
        "id": "eCCKcWIp8Pww",
        "outputId": "899f9ed9-edfc-4fee-de5b-4135463baf99"
      },
      "outputs": [
        {
          "name": "stderr",
          "output_type": "stream",
          "text": [
            "/opt/anaconda3/envs/era_v4/lib/python3.9/site-packages/torch/utils/data/dataloader.py:684: UserWarning: 'pin_memory' argument is set as true but not supported on MPS now, then device pinned memory won't be used.\n",
            "  warnings.warn(warn_msg)\n"
          ]
        },
        {
          "name": "stdout",
          "output_type": "stream",
          "text": [
            "📊 Dataset Information:\n",
            "Batch shape: torch.Size([32, 1, 28, 28])\n",
            "Label shape: torch.Size([32])\n",
            "Data type: torch.float32\n",
            "Pixel value range: [-0.424, 2.821]\n"
          ]
        },
        {
          "data": {
            "image/png": "[encoded data removed]",
            "text/plain": [
              "<Figure size 1200x800 with 12 Axes>"
            ]
          },
          "metadata": {},
          "output_type": "display_data"
        },
        {
          "name": "stdout",
          "output_type": "stream",
          "text": [
            "\n",
            "📈 Batch Statistics:\n",
            "Unique labels in batch: [0, 1, 2, 3, 4, 5, 7, 8, 9]\n",
            "  Digit 0: 7 images\n",
            "  Digit 1: 5 images\n",
            "  Digit 2: 2 images\n",
            "  Digit 3: 1 images\n",
            "  Digit 4: 4 images\n",
            "  Digit 5: 3 images\n",
            "  Digit 7: 3 images\n",
            "  Digit 8: 5 images\n",
            "  Digit 9: 2 images\n"
          ]
        }
      ],
      "source": [
        "# Get a sample batch from the training data loader\n",
        "batch_data, batch_labels = next(iter(train_loader))\n",
        "\n",
        "print(\"📊 Dataset Information:\")\n",
        "print(f\"Batch shape: {batch_data.shape}\")\n",
        "print(f\"Label shape: {batch_labels.shape}\")\n",
        "print(f\"Data type: {batch_data.dtype}\")\n",
        "print(f\"Pixel value range: [{batch_data.min():.3f}, {batch_data.max():.3f}]\")\n",
        "\n",
        "# Create a figure to display sample images\n",
        "plt.figure(figsize=(12, 8))\n",
        "plt.suptitle('Sample MNIST Training Images with Data Augmentation', \n",
        "             fontsize=16, fontweight='bold', y=0.98)\n",
        "\n",
        "# Display a grid of 12 sample images (3 rows × 4 columns)\n",
        "num_samples = 12\n",
        "for i in range(num_samples):\n",
        "    plt.subplot(3, 4, i + 1)  # Create subplot in 3x4 grid\n",
        "    \n",
        "    # Display the image\n",
        "    image = batch_data[i].squeeze(0)  # Remove channel dimension for display\n",
        "    plt.imshow(image, cmap='gray', interpolation='nearest')\n",
        "    \n",
        "    # Add title showing the digit label\n",
        "    digit_label = batch_labels[i].item()\n",
        "    plt.title(f'Digit: {digit_label}', fontsize=12, fontweight='bold')\n",
        "    \n",
        "    # Remove axis ticks for cleaner appearance\n",
        "    plt.xticks([])\n",
        "    plt.yticks([])\n",
        "    \n",
        "    # Add subtle border around each image\n",
        "    plt.gca().add_patch(plt.Rectangle((0, 0), 27, 27, fill=False, \n",
        "                                     edgecolor='lightgray', linewidth=1))\n",
        "\n",
        "plt.tight_layout(rect=[0, 0.03, 1, 0.95])  # Adjust layout to fit suptitle\n",
        "plt.show()\n",
        "\n",
        "# Display statistics about the current batch\n",
        "print(f\"\\n📈 Batch Statistics:\")\n",
        "print(f\"Unique labels in batch: {sorted(torch.unique(batch_labels).tolist())}\")\n",
        "unique_labels, counts = torch.unique(batch_labels, return_counts=True)\n",
        "for label, count in zip(unique_labels.tolist(), counts.tolist()):\n",
        "    print(f\"  Digit {label}: {count} images\")"
      ]
    },
    {
      "cell_type": "markdown",
      "metadata": {},
      "source": [
        "## CNN Model Architecture\n",
        "\n",
        "Our **SmallMNISTNet4Block** is designed to be efficient yet powerful, staying under 25,000 parameters while achieving high accuracy.\n",
        "\n",
        "### Architecture Design Philosophy:\n",
        "- **Progressive Channel Reduction**: Each block processes features at different abstraction levels\n",
        "- **Transition Layers**: 1×1 convolutions reduce parameters and control information flow\n",
        "- **Strategic Dropout**: Applied at key points to prevent overfitting\n",
        "- **Global Average Pooling**: Replaces fully connected layers to reduce parameters\n",
        "- **Efficient Parameter Usage**: Every layer contributes meaningfully to the final result\n",
        "\n",
        "### Model Flow:\n",
        "```\n",
        "Input (1×28×28) \n",
        "↓ Block 1: Feature extraction (1→8→16→32→16 channels) + MaxPool + Dropout\n",
        "↓ Block 2: Pattern recognition (16→32→8 channels) + MaxPool + Dropout  \n",
        "↓ Block 3: High-level features (8→16 channels) + MaxPool + Dropout\n",
        "↓ Block 4: Final refinement (16→32 channels)\n",
        "↓ Global Average Pooling (32×1×1)\n",
        "↓ Linear Classification (32→10)\n",
        "↓ Output (10 classes)\n",
        "```\n"
      ]
    },
    {
      "cell_type": "code",
      "execution_count": 6,
      "metadata": {
        "id": "PEwdHbHvZSwm"
      },
      "outputs": [],
      "source": [
        "class SmallMNISTNet4Block(nn.Module):\n",
        "    def __init__(self, dropout_prob=0.1):\n",
        "        super(SmallMNISTNet4Block, self).__init__()\n",
        "\n",
        "        # ------- Block 1 -------\n",
        "        self.conv1_1 = nn.Conv2d(1, 6, 3, padding=1)\n",
        "        self.conv1_2 = nn.Conv2d(6, 12, 3, padding=1)\n",
        "        self.conv1_3 = nn.Conv2d(12, 24, 3, padding=1)\n",
        "        self.trans1 = nn.Conv2d(24, 8, 1)\n",
        "        self.dropout1 = nn.Dropout2d(dropout_prob)\n",
        "\n",
        "        # ------- Block 2 -------\n",
        "        self.conv2_1 = nn.Conv2d(8, 16, 3, padding=1)\n",
        "        self.conv2_2 = nn.Conv2d(16, 16, 3, padding=1)\n",
        "        self.trans2 = nn.Conv2d(16, 8, 1)\n",
        "        self.dropout2 = nn.Dropout2d(dropout_prob)\n",
        "\n",
        "        # ------- Block 3 -------\n",
        "        self.conv3_1 = nn.Conv2d(8, 16, 3, padding=1)\n",
        "        self.conv3_2 = nn.Conv2d(16, 16, 3, padding=1)\n",
        "        #self.dropout3 = nn.Dropout2d(dropout_prob)\n",
        "\n",
        "        # ------- Block 4 -------\n",
        "        self.conv4_1 = nn.Conv2d(16, 16, 3, padding=1)\n",
        "        self.conv4_2 = nn.Conv2d(16, 32, 3, padding=1)\n",
        "        #self.dropout4 = nn.Dropout2d(dropout_prob)\n",
        "\n",
        "        # Global Average Pooling\n",
        "        self.gap = nn.AdaptiveAvgPool2d(1)\n",
        "\n",
        "        # Final classifier\n",
        "        self.fc = nn.Linear(32, 10)\n",
        "\n",
        "    def forward(self, x):\n",
        "        # Block 1\n",
        "        x = F.relu(self.conv1_1(x))\n",
        "        x = F.relu(self.conv1_2(x))\n",
        "        x = F.relu(self.conv1_3(x))\n",
        "        x = F.relu(self.trans1(x))\n",
        "        x = F.max_pool2d(x, 2)\n",
        "        x = self.dropout1(x)\n",
        "\n",
        "        # Block 2\n",
        "        x = F.relu(self.conv2_1(x))\n",
        "        x = F.relu(self.conv2_2(x))\n",
        "        x = F.relu(self.trans2(x))\n",
        "        x = F.max_pool2d(x, 2)\n",
        "        x = self.dropout2(x)\n",
        "\n",
        "        # Block 3\n",
        "        x = F.relu(self.conv3_1(x))\n",
        "        x = F.relu(self.conv3_2(x))\n",
        "        x = F.max_pool2d(x, 2)\n",
        "        #x = self.dropout3(x)\n",
        "\n",
        "        # Block 4\n",
        "        x = F.relu(self.conv4_1(x))\n",
        "        x = F.relu(self.conv4_2(x))\n",
        "        #x = self.dropout4(x)\n",
        "\n",
        "        # Global Average Pooling\n",
        "        x = self.gap(x)\n",
        "\n",
        "        # Flatten + classifier\n",
        "        x = x.view(x.size(0), -1)\n",
        "        x = self.fc(x)\n",
        "        return F.log_softmax(x, dim=1)\n"
      ]
    },
    {
      "cell_type": "markdown",
      "metadata": {},
      "source": [
        "## Model Summary and Parameter Analysis\n",
        "\n",
        "Let's analyze our model architecture and verify it meets our parameter constraints:\n",
        "- **Total Parameters**: Should be < 20k\n",
        "- **Memory Usage**: Efficient forward/backward pass\n",
        "- **Layer Distribution**: Balanced parameter allocation across blocks\n"
      ]
    },
    {
      "cell_type": "code",
      "execution_count": 7,
      "metadata": {
        "colab": {
          "base_uri": "https://localhost:8080/"
        },
        "id": "SJkyEL-PMOjE",
        "outputId": "9c276046-1519-4fbf-db53-a93b4375907d"
      },
      "outputs": [
        {
          "name": "stdout",
          "output_type": "stream",
          "text": [
            "----------------------------------------------------------------\n",
            "        Layer (type)               Output Shape         Param #\n",
            "================================================================\n",
            "            Conv2d-1            [-1, 6, 28, 28]              60\n",
            "            Conv2d-2           [-1, 12, 28, 28]             660\n",
            "            Conv2d-3           [-1, 24, 28, 28]           2,616\n",
            "            Conv2d-4            [-1, 8, 28, 28]             200\n",
            "         Dropout2d-5            [-1, 8, 14, 14]               0\n",
            "            Conv2d-6           [-1, 16, 14, 14]           1,168\n",
            "            Conv2d-7           [-1, 16, 14, 14]           2,320\n",
            "            Conv2d-8            [-1, 8, 14, 14]             136\n",
            "         Dropout2d-9              [-1, 8, 7, 7]               0\n",
            "           Conv2d-10             [-1, 16, 7, 7]           1,168\n",
            "           Conv2d-11             [-1, 16, 7, 7]           2,320\n",
            "           Conv2d-12             [-1, 16, 3, 3]           2,320\n",
            "           Conv2d-13             [-1, 32, 3, 3]           4,640\n",
            "AdaptiveAvgPool2d-14             [-1, 32, 1, 1]               0\n",
            "           Linear-15                   [-1, 10]             330\n",
            "================================================================\n",
            "Total params: 17,938\n",
            "Trainable params: 17,938\n",
            "Non-trainable params: 0\n",
            "----------------------------------------------------------------\n",
            "Input size (MB): 0.00\n",
            "Forward/backward pass size (MB): 0.39\n",
            "Params size (MB): 0.07\n",
            "Estimated Total Size (MB): 0.46\n",
            "----------------------------------------------------------------\n"
          ]
        }
      ],
      "source": [
        "model = SmallMNISTNet4Block().to('cpu')\n",
        "summary(model, input_size=(1, 28, 28))"
      ]
    },
    {
      "cell_type": "markdown",
      "metadata": {},
      "source": [
        "### Training Configuration:\n",
        "- **Optimizer**: Adam with adaptive learning rate\n",
        "- **Loss Function**: CrossEntropyLoss for multi-class classification\n"
      ]
    },
    {
      "cell_type": "code",
      "execution_count": 8,
      "metadata": {
        "id": "6NPG4kw1Vg6-"
      },
      "outputs": [
        {
          "name": "stdout",
          "output_type": "stream",
          "text": [
            "==================================================\n",
            "📁 Training Setup Complete:\n",
            "  Epochs: 20\n",
            "  Early stopping patience: 10\n",
            "  Checkpoint directory: ./checkpoints\n",
            "  Best model path: ./checkpoints/best_mnist_model.pth\n",
            "  Latest checkpoint: ./checkpoints/latest_checkpoint.pth\n",
            "🎯 Training Configuration:\n",
            "  Device: mps\n",
            "  Optimizer: Adam (lr=0.001, weight_decay=0)\n",
            "  Loss function: CrossEntropyLoss\n",
            "  Scheduler: StepLR (step_size=7, gamma=0.1)\n",
            "  Epochs: 20\n",
            "  Early stopping patience: 10\n"
          ]
        }
      ],
      "source": [
        "print(\"=\" * 50)\n",
        "\n",
        "config, training_history, checkpoint_paths = TrainingHelper.setup_training_config(\n",
        "    num_epochs=20, \n",
        "    early_stopping_patience=10, \n",
        "    min_delta=0.001,\n",
        "    save_best_only=True,\n",
        "    checkpoint_dir=\"./checkpoints\")\n",
        "\n",
        "best_model_path = checkpoint_paths['best_model']\n",
        "checkpoint_path = checkpoint_paths['latest_checkpoint']\n",
        "\n",
        "# Initialize model with optimal settings\n",
        "model = SmallMNISTNet4Block(dropout_prob=0.1).to(device)\n",
        "\n",
        "# Configure optimizer with optimal hyperparameters\n",
        "optimizer = optim.Adam(\n",
        "    model.parameters(), \n",
        "    lr=0.001\n",
        ")\n",
        "\n",
        "# Set up loss function\n",
        "criterion = nn.CrossEntropyLoss()\n",
        "\n",
        "# Learning rate scheduler for adaptive learning\n",
        "scheduler = optim.lr_scheduler.StepLR(\n",
        "    optimizer, \n",
        "    step_size=7,           # Reduce LR every 7 epochs\n",
        "    gamma=0.1              # Multiply LR by 0.1\n",
        ")\n",
        "\n",
        "# Initialize tracking variables\n",
        "best_test_accuracy = 0.0\n",
        "patience_counter = 0\n",
        "start_epoch = 0\n",
        "\n",
        "print(f\"🎯 Training Configuration:\")\n",
        "print(f\"  Device: {device}\")\n",
        "print(f\"  Optimizer: Adam (lr={optimizer.param_groups[0]['lr']}, weight_decay={optimizer.param_groups[0]['weight_decay']})\")\n",
        "print(f\"  Loss function: {criterion.__class__.__name__}\")\n",
        "print(f\"  Scheduler: StepLR (step_size=7, gamma=0.1)\")\n",
        "print(f\"  Epochs: {config['num_epochs']}\")\n",
        "print(f\"  Early stopping patience: {config['early_stopping_patience']}\")\n"
      ]
    },
    {
      "cell_type": "code",
      "execution_count": 9,
      "metadata": {
        "colab": {
          "base_uri": "https://localhost:8080/"
        },
        "id": "ZnrRtTOQLvNx",
        "outputId": "888ba554-61db-4614-9b8d-d064211bcec2"
      },
      "outputs": [
        {
          "name": "stdout",
          "output_type": "stream",
          "text": [
            "\n",
            "🚀 Starting Training Process\n",
            "============================================================\n",
            "20 epochs starting from epoch 0\n",
            "\n",
            "📈 Epoch 1/20\n",
            "----------------------------------------\n"
          ]
        },
        {
          "name": "stderr",
          "output_type": "stream",
          "text": [
            "                                                                                      \r"
          ]
        },
        {
          "name": "stdout",
          "output_type": "stream",
          "text": [
            "🏆 New best model! Test accuracy: 96.68%\n",
            "Train Loss: 0.6468 | Train Acc: 77.69% || Test Loss:  0.1066 | Test Acc:  96.68% || Learning Rate: 0.001000\n",
            "\n",
            "📈 Epoch 2/20\n",
            "----------------------------------------\n"
          ]
        },
        {
          "name": "stderr",
          "output_type": "stream",
          "text": [
            "                                                                                      \r"
          ]
        },
        {
          "name": "stdout",
          "output_type": "stream",
          "text": [
            "🏆 New best model! Test accuracy: 97.80%\n",
            "Train Loss: 0.1834 | Train Acc: 94.45% || Test Loss:  0.0719 | Test Acc:  97.80% || Learning Rate: 0.001000\n",
            "\n",
            "📈 Epoch 3/20\n",
            "----------------------------------------\n"
          ]
        },
        {
          "name": "stderr",
          "output_type": "stream",
          "text": [
            "                                                                                      \r"
          ]
        },
        {
          "name": "stdout",
          "output_type": "stream",
          "text": [
            "🏆 New best model! Test accuracy: 97.97%\n",
            "Train Loss: 0.1338 | Train Acc: 95.98% || Test Loss:  0.0685 | Test Acc:  97.97% || Learning Rate: 0.001000\n",
            "\n",
            "📈 Epoch 4/20\n",
            "----------------------------------------\n"
          ]
        },
        {
          "name": "stderr",
          "output_type": "stream",
          "text": [
            "                                                                                      \r"
          ]
        },
        {
          "name": "stdout",
          "output_type": "stream",
          "text": [
            "🏆 New best model! Test accuracy: 98.64%\n",
            "Train Loss: 0.1095 | Train Acc: 96.80% || Test Loss:  0.0456 | Test Acc:  98.64% || Learning Rate: 0.001000\n",
            "\n",
            "📈 Epoch 5/20\n",
            "----------------------------------------\n"
          ]
        },
        {
          "name": "stderr",
          "output_type": "stream",
          "text": [
            "                                                                                      \r"
          ]
        },
        {
          "name": "stdout",
          "output_type": "stream",
          "text": [
            "🏆 New best model! Test accuracy: 98.76%\n",
            "Train Loss: 0.0952 | Train Acc: 97.14% || Test Loss:  0.0417 | Test Acc:  98.76% || Learning Rate: 0.001000\n",
            "\n",
            "📈 Epoch 6/20\n",
            "----------------------------------------\n"
          ]
        },
        {
          "name": "stderr",
          "output_type": "stream",
          "text": [
            "                                                                                      \r"
          ]
        },
        {
          "name": "stdout",
          "output_type": "stream",
          "text": [
            "🏆 New best model! Test accuracy: 98.87%\n",
            "Train Loss: 0.0882 | Train Acc: 97.30% || Test Loss:  0.0364 | Test Acc:  98.87% || Learning Rate: 0.001000\n",
            "\n",
            "📈 Epoch 7/20\n",
            "----------------------------------------\n"
          ]
        },
        {
          "name": "stderr",
          "output_type": "stream",
          "text": [
            "                                                                                      \r"
          ]
        },
        {
          "name": "stdout",
          "output_type": "stream",
          "text": [
            "🏆 New best model! Test accuracy: 98.88%\n",
            "Train Loss: 0.0791 | Train Acc: 97.66% || Test Loss:  0.0374 | Test Acc:  98.88% || Learning Rate: 0.001000\n",
            "\n",
            "📈 Epoch 8/20\n",
            "----------------------------------------\n"
          ]
        },
        {
          "name": "stderr",
          "output_type": "stream",
          "text": [
            "                                                                                      \r"
          ]
        },
        {
          "name": "stdout",
          "output_type": "stream",
          "text": [
            "🏆 New best model! Test accuracy: 99.20%\n",
            "Train Loss: 0.0573 | Train Acc: 98.22% || Test Loss:  0.0244 | Test Acc:  99.20% || Learning Rate: 0.000100\n",
            "\n",
            "📈 Epoch 9/20\n",
            "----------------------------------------\n"
          ]
        },
        {
          "name": "stderr",
          "output_type": "stream",
          "text": [
            "                                                                                      \r"
          ]
        },
        {
          "name": "stdout",
          "output_type": "stream",
          "text": [
            "🏆 New best model! Test accuracy: 99.22%\n",
            "Train Loss: 0.0511 | Train Acc: 98.37% || Test Loss:  0.0243 | Test Acc:  99.22% || Learning Rate: 0.000100\n",
            "\n",
            "📈 Epoch 10/20\n",
            "----------------------------------------\n"
          ]
        },
        {
          "name": "stderr",
          "output_type": "stream",
          "text": [
            "                                                                                       \r"
          ]
        },
        {
          "name": "stdout",
          "output_type": "stream",
          "text": [
            "🏆 New best model! Test accuracy: 99.33%\n",
            "Train Loss: 0.0494 | Train Acc: 98.46% || Test Loss:  0.0219 | Test Acc:  99.33% || Learning Rate: 0.000100\n",
            "\n",
            "📈 Epoch 11/20\n",
            "----------------------------------------\n"
          ]
        },
        {
          "name": "stderr",
          "output_type": "stream",
          "text": [
            "                                                                                       \r"
          ]
        },
        {
          "name": "stdout",
          "output_type": "stream",
          "text": [
            "📊 No improvement (patience: 1/10)\n",
            "Train Loss: 0.0497 | Train Acc: 98.40% || Test Loss:  0.0209 | Test Acc:  99.32% || Learning Rate: 0.000100\n",
            "\n",
            "📈 Epoch 12/20\n",
            "----------------------------------------\n"
          ]
        },
        {
          "name": "stderr",
          "output_type": "stream",
          "text": [
            "                                                                                       \r"
          ]
        },
        {
          "name": "stdout",
          "output_type": "stream",
          "text": [
            "📊 No improvement (patience: 2/10)\n",
            "Train Loss: 0.0480 | Train Acc: 98.45% || Test Loss:  0.0214 | Test Acc:  99.23% || Learning Rate: 0.000100\n",
            "\n",
            "📈 Epoch 13/20\n",
            "----------------------------------------\n"
          ]
        },
        {
          "name": "stderr",
          "output_type": "stream",
          "text": [
            "                                                                                       \r"
          ]
        },
        {
          "name": "stdout",
          "output_type": "stream",
          "text": [
            "🏆 New best model! Test accuracy: 99.34%\n",
            "Train Loss: 0.0457 | Train Acc: 98.62% || Test Loss:  0.0201 | Test Acc:  99.34% || Learning Rate: 0.000100\n",
            "\n",
            "📈 Epoch 14/20\n",
            "----------------------------------------\n"
          ]
        },
        {
          "name": "stderr",
          "output_type": "stream",
          "text": [
            "                                                                                       \r"
          ]
        },
        {
          "name": "stdout",
          "output_type": "stream",
          "text": [
            "📊 No improvement (patience: 1/10)\n",
            "Train Loss: 0.0443 | Train Acc: 98.60% || Test Loss:  0.0209 | Test Acc:  99.31% || Learning Rate: 0.000100\n",
            "\n",
            "📈 Epoch 15/20\n",
            "----------------------------------------\n"
          ]
        },
        {
          "name": "stderr",
          "output_type": "stream",
          "text": [
            "                                                                                       \r"
          ]
        },
        {
          "name": "stdout",
          "output_type": "stream",
          "text": [
            "📊 No improvement (patience: 2/10)\n",
            "Train Loss: 0.0446 | Train Acc: 98.66% || Test Loss:  0.0204 | Test Acc:  99.33% || Learning Rate: 0.000010\n",
            "\n",
            "📈 Epoch 16/20\n",
            "----------------------------------------\n"
          ]
        },
        {
          "name": "stderr",
          "output_type": "stream",
          "text": [
            "                                                                                       \r"
          ]
        },
        {
          "name": "stdout",
          "output_type": "stream",
          "text": [
            "🏆 New best model! Test accuracy: 99.38%\n",
            "Train Loss: 0.0442 | Train Acc: 98.62% || Test Loss:  0.0205 | Test Acc:  99.38% || Learning Rate: 0.000010\n",
            "\n",
            "📈 Epoch 17/20\n",
            "----------------------------------------\n"
          ]
        },
        {
          "name": "stderr",
          "output_type": "stream",
          "text": [
            "                                                                                       \r"
          ]
        },
        {
          "name": "stdout",
          "output_type": "stream",
          "text": [
            "📊 No improvement (patience: 1/10)\n",
            "Train Loss: 0.0429 | Train Acc: 98.66% || Test Loss:  0.0203 | Test Acc:  99.35% || Learning Rate: 0.000010\n",
            "\n",
            "📈 Epoch 18/20\n",
            "----------------------------------------\n"
          ]
        },
        {
          "name": "stderr",
          "output_type": "stream",
          "text": [
            "                                                                                       \r"
          ]
        },
        {
          "name": "stdout",
          "output_type": "stream",
          "text": [
            "📊 No improvement (patience: 2/10)\n",
            "Train Loss: 0.0425 | Train Acc: 98.65% || Test Loss:  0.0198 | Test Acc:  99.37% || Learning Rate: 0.000010\n",
            "\n",
            "📈 Epoch 19/20\n",
            "----------------------------------------\n"
          ]
        },
        {
          "name": "stderr",
          "output_type": "stream",
          "text": [
            "                                                                                       \r"
          ]
        },
        {
          "name": "stdout",
          "output_type": "stream",
          "text": [
            "📊 No improvement (patience: 3/10)\n",
            "Train Loss: 0.0416 | Train Acc: 98.71% || Test Loss:  0.0206 | Test Acc:  99.36% || Learning Rate: 0.000010\n",
            "\n",
            "📈 Epoch 20/20\n",
            "----------------------------------------\n"
          ]
        },
        {
          "name": "stderr",
          "output_type": "stream",
          "text": [
            "                                                                                       \r"
          ]
        },
        {
          "name": "stdout",
          "output_type": "stream",
          "text": [
            "📊 No improvement (patience: 4/10)\n",
            "Train Loss: 0.0440 | Train Acc: 98.65% || Test Loss:  0.0203 | Test Acc:  99.32% || Learning Rate: 0.000010\n",
            "\n",
            "✅ Training Complete!\n",
            "   Best test accuracy: 99.38%\n",
            "   Total epochs trained: 20\n"
          ]
        }
      ],
      "source": [
        "# 🚀 Training Loop with Comprehensive Tracking\n",
        "print(\"\\n🚀 Starting Training Process\")\n",
        "print(\"=\" * 60)\n",
        "\n",
        "print(str(config['num_epochs']) + \" epochs\" + \" starting from epoch \" + str(start_epoch))\n",
        "\n",
        "# Training loop with enhanced features\n",
        "for epoch in range(start_epoch, config['num_epochs']):\n",
        "    current_epoch = epoch + 1\n",
        "    print(f\"\\n📈 Epoch {current_epoch}/{config['num_epochs']}\")\n",
        "    print(\"-\" * 40)\n",
        "    \n",
        "    # Get current learning rate\n",
        "    current_lr = optimizer.param_groups[0]['lr']\n",
        "    \n",
        "    # Training phase\n",
        "    train_loss, train_accuracy = TrainingHelper.train_epoch(\n",
        "        model, device, train_loader, optimizer, criterion, current_epoch\n",
        "    )\n",
        "    \n",
        "    # Testing/Validation phase\n",
        "    test_loss, test_accuracy = TrainingHelper.evaluate_model(\n",
        "        model, device, test_loader, criterion, \"Test\"\n",
        "    )\n",
        "    \n",
        "    # Update learning rate scheduler\n",
        "    scheduler.step()\n",
        "    \n",
        "    # Store metrics in training history\n",
        "    training_history['epochs'].append(current_epoch)\n",
        "    training_history['train_losses'].append(train_loss)\n",
        "    training_history['train_accuracies'].append(train_accuracy)\n",
        "    training_history['test_losses'].append(test_loss)\n",
        "    training_history['test_accuracies'].append(test_accuracy)\n",
        "    training_history['learning_rates'].append(current_lr)\n",
        "    \n",
        "    # Check for improvement and save best model\n",
        "    improvement = test_accuracy - best_test_accuracy\n",
        "    if improvement > config['min_delta']:\n",
        "        best_test_accuracy = test_accuracy\n",
        "        patience_counter = 0\n",
        "        \n",
        "        # Save best model\n",
        "        TrainingHelper.save_checkpoint(\n",
        "            model, optimizer, current_epoch, test_loss, test_accuracy, best_model_path\n",
        "        )\n",
        "        print(f\"🏆 New best model! Test accuracy: {test_accuracy:.2f}%\")\n",
        "    else:\n",
        "        patience_counter += 1\n",
        "        print(f\"📊 No improvement (patience: {patience_counter}/{config['early_stopping_patience']})\")\n",
        "\n",
        "    # Save latest checkpoint\n",
        "    TrainingHelper.save_checkpoint(\n",
        "        model, optimizer, current_epoch, test_loss, test_accuracy, checkpoint_path\n",
        "    )\n",
        "    \n",
        "    # Early stopping check\n",
        "    if patience_counter >= config['early_stopping_patience']:\n",
        "        print(f\"\\n⏹️  Early stopping triggered after {current_epoch} epochs\")\n",
        "        print(f\"   Best test accuracy: {best_test_accuracy:.2f}%\")\n",
        "        break\n",
        "    \n",
        "    # Display epoch summary\n",
        "    print(f\"Train Loss: {train_loss:.4f} | Train Acc: {train_accuracy:.2f}% || Test Loss:  {test_loss:.4f} | Test Acc:  {test_accuracy:.2f}% || Learning Rate: {current_lr:.6f}\")\n",
        "\n",
        "print(f\"\\n✅ Training Complete!\")\n",
        "print(f\"   Best test accuracy: {best_test_accuracy:.2f}%\")\n",
        "print(f\"   Total epochs trained: {len(training_history['epochs'])}\")"
      ]
    },
    {
      "cell_type": "markdown",
      "metadata": {},
      "source": [
        "### Training Analysis"
      ]
    },
    {
      "cell_type": "code",
      "execution_count": 10,
      "metadata": {
        "id": "Mcg65lQvLxZd"
      },
      "outputs": [
        {
          "name": "stdout",
          "output_type": "stream",
          "text": [
            "\n",
            "📊 Training History Visualization\n",
            "==================================================\n",
            "✅ Training history found with 20 epochs\n",
            "📊 Combined metrics plot saved to combined_metrics.png\n"
          ]
        },
        {
          "data": {
            "image/png": "[encoded data removed]",
            "text/plain": [
              "<Figure size 1200x500 with 2 Axes>"
            ]
          },
          "metadata": {},
          "output_type": "display_data"
        },
        {
          "name": "stdout",
          "output_type": "stream",
          "text": [
            "📊 Learning rate schedule plot saved to learning_rate_schedule.png\n"
          ]
        },
        {
          "data": {
            "image/png": "[encoded data removed]",
            "text/plain": [
              "<Figure size 1000x600 with 1 Axes>"
            ]
          },
          "metadata": {},
          "output_type": "display_data"
        }
      ],
      "source": [
        "# Add plotting cell at the end using Visualization class\n",
        "print(\"\\n📊 Training History Visualization\")\n",
        "print(\"=\" * 50)\n",
        "\n",
        "# Check if training history exists and has data\n",
        "if training_history['epochs']:\n",
        "    print(f\"✅ Training history found with {len(training_history['epochs'])} epochs\")\n",
        "    \n",
        "    # Plot 2: Combined metrics (side-by-side) using Visualization class\n",
        "    Visualization.plot_combined_metrics(training_history, save_path='combined_metrics.png')\n",
        "    \n",
        "    # Plot 3: Learning rate schedule\n",
        "    Visualization.plot_learning_rate_schedule(training_history, save_path='learning_rate_schedule.png')\n",
        "    \n",
        "else:\n",
        "    print(\"❌ No training history found. Please run training first.\")\n",
        "    print(\"Available variables:\", [var for var in locals() if 'train' in var.lower() or 'test' in var.lower()])\n"
      ]
    },
    {
      "cell_type": "code",
      "execution_count": null,
      "metadata": {
        "id": "8ofI8BKmQgx-"
      },
      "outputs": [],
      "source": []
    }
  ],
  "metadata": {
    "accelerator": "GPU",
    "colab": {
      "gpuType": "T4",
      "provenance": []
    },
    "kernelspec": {
      "display_name": "era_v4",
      "language": "python",
      "name": "python3"
    },
    "language_info": {
      "codemirror_mode": {
        "name": "ipython",
        "version": 3
      },
      "file_extension": ".py",
      "mimetype": "text/x-python",
      "name": "python",
      "nbconvert_exporter": "python",
      "pygments_lexer": "ipython3",
      "version": "3.9.23"
    }
  },
  "nbformat": 4,
  "nbformat_minor": 0
}
