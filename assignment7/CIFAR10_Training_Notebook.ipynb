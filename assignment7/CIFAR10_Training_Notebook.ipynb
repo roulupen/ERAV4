{
  "cells": [
    {
      "cell_type": "markdown",
      "metadata": {},
      "source": [
        "# CIFAR-10 Classification Training Notebook\n",
        "\n",
        "This notebook demonstrates the complete CIFAR-10 training pipeline with:\n",
        "- Data visualization and augmentation display\n",
        "- Model architecture analysis\n",
        "- Training and evaluation\n",
        "- Results visualization\n",
        "\n",
        "**Compatible with both local environments and Google Colab**\n"
      ]
    },
    {
      "cell_type": "markdown",
      "metadata": {},
      "source": [
        "## 1. Setup and Installation\n"
      ]
    },
    {
      "cell_type": "code",
      "execution_count": 2,
      "metadata": {},
      "outputs": [
        {
          "name": "stdout",
          "output_type": "stream",
          "text": [
            "🟢 Running locally\n",
            "📦 Using local packages\n"
          ]
        }
      ],
      "source": [
        "# Check if running on Colab\n",
        "try:\n",
        "    import google.colab\n",
        "    IN_COLAB = True\n",
        "    print(\"🟢 Running on Google Colab\")\n",
        "except ImportError:\n",
        "    IN_COLAB = False\n",
        "    print(\"🟢 Running locally\")\n",
        "\n",
        "# Install required packages if on Colab\n",
        "if IN_COLAB:\n",
        "    %pip install albumentations torchsummary\n",
        "    print(\"📦 Packages installed\")\n",
        "else:\n",
        "    print(\"📦 Using local packages\")\n"
      ]
    },
    {
      "cell_type": "code",
      "execution_count": 3,
      "metadata": {},
      "outputs": [
        {
          "name": "stdout",
          "output_type": "stream",
          "text": [
            "✅ All imports successful\n"
          ]
        }
      ],
      "source": [
        "# Import required libraries\n",
        "import torch\n",
        "import torch.nn as nn\n",
        "import torch.optim as optim\n",
        "import matplotlib.pyplot as plt\n",
        "import numpy as np\n",
        "import time\n",
        "import os\n",
        "from tqdm import tqdm\n",
        "import warnings\n",
        "warnings.filterwarnings('ignore')\n",
        "\n",
        "# Import our modules\n",
        "from model import create_cifar10_model, test_model_architecture\n",
        "from data import get_cifar10_data_loaders, get_dataset_info, visualize_augmentations\n",
        "from trainer import create_trainer\n",
        "from utils import set_random_seed, get_device, plot_training_history\n",
        "from config import TrainingConfig\n",
        "\n",
        "print(\"✅ All imports successful\")\n"
      ]
    },
    {
      "cell_type": "markdown",
      "metadata": {},
      "source": [
        "## 2. Device Setup and Configuration\n"
      ]
    },
    {
      "cell_type": "code",
      "execution_count": 4,
      "metadata": {},
      "outputs": [
        {
          "name": "stdout",
          "output_type": "stream",
          "text": [
            "🌱 Random seed set to 42\n",
            "✅ Using Apple Silicon GPU (Metal Performance Shaders)\n",
            "🖥️  Device: mps\n",
            "🔧 MPS Available: True\n",
            "⚙️  Configuration: 64 batch size, 20 epochs, 0.001 LR\n"
          ]
        }
      ],
      "source": [
        "# Set random seed for reproducibility\n",
        "set_random_seed(42)\n",
        "\n",
        "# Get device (will use GPU if available)\n",
        "device = get_device()\n",
        "\n",
        "# Print device information\n",
        "print(f\"🖥️  Device: {device}\")\n",
        "if torch.cuda.is_available():\n",
        "    print(f\"🔧 CUDA Version: {torch.version.cuda}\")\n",
        "    print(f\"🔧 GPU Memory: {torch.cuda.get_device_properties(0).total_memory / 1e9:.1f} GB\")\n",
        "elif torch.backends.mps.is_available():\n",
        "    print(f\"🔧 MPS Available: {torch.backends.mps.is_available()}\")\n",
        "\n",
        "# Training configuration\n",
        "config = TrainingConfig(\n",
        "    batch_size=64,\n",
        "    epochs=20,\n",
        "    learning_rate=0.001,\n",
        "    optimizer='adamw',\n",
        "    scheduler='cosine',\n",
        "    augment=True,\n",
        "    target_accuracy=85.0\n",
        ")\n",
        "\n",
        "print(f\"⚙️  Configuration: {config.batch_size} batch size, {config.epochs} epochs, {config.learning_rate} LR\")\n"
      ]
    },
    {
      "cell_type": "markdown",
      "metadata": {},
      "source": [
        "## 3. Data Loading and Visualization\n"
      ]
    },
    {
      "cell_type": "code",
      "execution_count": 5,
      "metadata": {},
      "outputs": [
        {
          "name": "stdout",
          "output_type": "stream",
          "text": [
            "📥 Loading CIFAR-10 dataset...\n",
            "✅ Data loaded successfully\n",
            "  Training batches: 781\n",
            "  Test batches: 157\n",
            "  Batch size: 64\n",
            "  Augmentation: ✅\n"
          ]
        }
      ],
      "source": [
        "# Load CIFAR-10 dataset\n",
        "print(\"📥 Loading CIFAR-10 dataset...\")\n",
        "train_loader, test_loader = get_cifar10_data_loaders(\n",
        "    batch_size=config.batch_size,\n",
        "    num_workers=2 if IN_COLAB else 4,  # Use fewer workers on Colab\n",
        "    augment=config.augment,\n",
        "    pin_memory=None  # Auto-detect based on device\n",
        ")\n",
        "\n",
        "print(f\"✅ Data loaded successfully\")\n",
        "print(f\"  Training batches: {len(train_loader)}\")\n",
        "print(f\"  Test batches: {len(test_loader)}\")\n",
        "print(f\"  Batch size: {config.batch_size}\")\n",
        "print(f\"  Augmentation: {'✅' if config.augment else '❌'}\")\n"
      ]
    },
    {
      "cell_type": "code",
      "execution_count": 6,
      "metadata": {},
      "outputs": [
        {
          "name": "stdout",
          "output_type": "stream",
          "text": [
            "📊 CIFAR-10 Dataset Information:\n",
            "  Classes: 10\n",
            "  Input size: (3, 32, 32)\n",
            "  Class names: ['airplane', 'automobile', 'bird', 'cat', 'deer', 'dog', 'frog', 'horse', 'ship', 'truck']\n"
          ]
        },
        {
          "data": {
            "image/png": "[encoded data removed]",
            "text/plain": [
              "<Figure size 1200x600 with 8 Axes>"
            ]
          },
          "metadata": {},
          "output_type": "display_data"
        }
      ],
      "source": [
        "# Display sample images from the dataset\n",
        "def display_sample_images(data_loader, num_samples=8, title=\"Sample Images\"):\n",
        "    \"\"\"Display sample images from the dataset.\"\"\"\n",
        "    # Get a batch of data\n",
        "    data_iter = iter(data_loader)\n",
        "    images, labels = next(data_iter)\n",
        "    \n",
        "    # Select first num_samples\n",
        "    images = images[:num_samples]\n",
        "    labels = labels[:num_samples]\n",
        "    \n",
        "    # Convert to numpy for visualization\n",
        "    images = images.numpy()\n",
        "    \n",
        "    # Denormalize images\n",
        "    mean = np.array([0.4914, 0.4822, 0.4465])\n",
        "    std = np.array([0.2023, 0.1994, 0.2010])\n",
        "    images = images * std.reshape(1, 3, 1, 1) + mean.reshape(1, 3, 1, 1)\n",
        "    images = np.clip(images, 0, 1)\n",
        "    \n",
        "    # Create subplot\n",
        "    fig, axes = plt.subplots(2, 4, figsize=(12, 6))\n",
        "    axes = axes.ravel()\n",
        "    \n",
        "    for i in range(num_samples):\n",
        "        # Transpose from CHW to HWC\n",
        "        img = images[i].transpose(1, 2, 0)\n",
        "        axes[i].imshow(img)\n",
        "        axes[i].set_title(f'{dataset_info[\"class_names\"][labels[i]]} ({labels[i]})')\n",
        "        axes[i].axis('off')\n",
        "    \n",
        "    plt.suptitle(title, fontsize=16)\n",
        "    plt.tight_layout()\n",
        "    plt.show()\n",
        "\n",
        "# Get dataset information\n",
        "dataset_info = get_dataset_info()\n",
        "print(\"📊 CIFAR-10 Dataset Information:\")\n",
        "print(f\"  Classes: {dataset_info['num_classes']}\")\n",
        "print(f\"  Input size: {dataset_info['input_size']}\")\n",
        "print(f\"  Class names: {dataset_info['class_names']}\")\n",
        "\n",
        "# Display sample images\n",
        "display_sample_images(train_loader, title=\"Sample Training Images\")\n"
      ]
    },
    {
      "cell_type": "markdown",
      "metadata": {},
      "source": [
        "## 4. Model Architecture Analysis\n"
      ]
    },
    {
      "cell_type": "code",
      "execution_count": 7,
      "metadata": {},
      "outputs": [
        {
          "name": "stdout",
          "output_type": "stream",
          "text": [
            "🏗️ Creating CIFAR-10 Model...\n",
            "✅ Model created and moved to mps\n",
            "\n",
            "🔍 Model Architecture Analysis:\n",
            "🔍 CIFAR-10 Model Architecture Test\n",
            "==================================================\n",
            "Input shape: torch.Size([1, 3, 32, 32])\n",
            "Output shape: torch.Size([1, 10])\n",
            "Parameter count: 132,330\n",
            "Receptive field: 55\n",
            "Under 200k params: ✅\n",
            "RF > 44: ✅\n",
            "\n",
            "Without FC layer:\n",
            "Parameter count: 132,330\n",
            "Output shape: torch.Size([1, 10])\n",
            "\n",
            "📊 Model Summary:\n",
            "----------------------------------------------------------------\n",
            "        Layer (type)               Output Shape         Param #\n",
            "================================================================\n",
            "            Conv2d-1           [-1, 16, 32, 32]             448\n",
            "       BatchNorm2d-2           [-1, 16, 32, 32]              32\n",
            "            Conv2d-3           [-1, 16, 32, 32]             160\n",
            "            Conv2d-4           [-1, 32, 32, 32]             544\n",
            "DepthwiseSeparableConv2d-5           [-1, 32, 32, 32]               0\n",
            "       BatchNorm2d-6           [-1, 32, 32, 32]              64\n",
            "            Conv2d-7           [-1, 64, 32, 32]          18,496\n",
            "     DilatedConv2d-8           [-1, 64, 32, 32]               0\n",
            "       BatchNorm2d-9           [-1, 64, 32, 32]             128\n",
            "           Conv2d-10           [-1, 64, 32, 32]          36,928\n",
            "    DilatedConv2d-11           [-1, 64, 32, 32]               0\n",
            "      BatchNorm2d-12           [-1, 64, 32, 32]             128\n",
            "           Conv2d-13          [-1, 128, 16, 16]          73,856\n",
            "      BatchNorm2d-14          [-1, 128, 16, 16]             256\n",
            "AdaptiveAvgPool2d-15            [-1, 128, 1, 1]               0\n",
            "          Dropout-16                  [-1, 128]               0\n",
            "           Linear-17                   [-1, 10]           1,290\n",
            "================================================================\n",
            "Total params: 132,330\n",
            "Trainable params: 132,330\n",
            "Non-trainable params: 0\n",
            "----------------------------------------------------------------\n",
            "Input size (MB): 0.01\n",
            "Forward/backward pass size (MB): 4.63\n",
            "Params size (MB): 0.50\n",
            "Estimated Total Size (MB): 5.14\n",
            "----------------------------------------------------------------\n",
            "\n",
            "📋 Requirements Check:\n",
            "  Parameters: 132,330 (✅ < 200k)\n",
            "  Receptive Field: 55 (✅ > 44)\n",
            "  Uses GAP: ✅\n",
            "  Uses Depthwise Separable: ✅\n",
            "  Uses Dilated Conv: ✅\n"
          ]
        }
      ],
      "source": [
        "# Create and analyze the model\n",
        "print(\"🏗️ Creating CIFAR-10 Model...\")\n",
        "model = create_cifar10_model(\n",
        "    num_classes=config.num_classes,\n",
        "    use_fc=config.use_fc\n",
        ")\n",
        "\n",
        "# Move model to device\n",
        "model = model.to(device)\n",
        "print(f\"✅ Model created and moved to {device}\")\n",
        "\n",
        "# Test model architecture\n",
        "print(\"\\n🔍 Model Architecture Analysis:\")\n",
        "test_model_architecture()\n",
        "\n",
        "# Display model summary\n",
        "print(\"\\n📊 Model Summary:\")\n",
        "from utils import get_model_summary\n",
        "get_model_summary(model, input_size=(3, 32, 32))\n",
        "\n",
        "# Verify requirements\n",
        "print(\"\\n📋 Requirements Check:\")\n",
        "param_count = sum(p.numel() for p in model.parameters())\n",
        "rf = model.calculate_receptive_field()\n",
        "\n",
        "print(f\"  Parameters: {param_count:,} ({'✅' if param_count < 200000 else '❌'} < 200k)\")\n",
        "print(f\"  Receptive Field: {rf} ({'✅' if rf > 44 else '❌'} > 44)\")\n",
        "print(f\"  Uses GAP: {'✅' if hasattr(model, 'gap') else '❌'}\")\n",
        "print(f\"  Uses Depthwise Separable: {'✅' if hasattr(model, 'conv2') else '❌'}\")\n",
        "print(f\"  Uses Dilated Conv: {'✅' if hasattr(model, 'conv3') else '❌'}\")\n"
      ]
    },
    {
      "cell_type": "markdown",
      "metadata": {},
      "source": [
        "## 5. Training Setup and Execution\n"
      ]
    },
    {
      "cell_type": "code",
      "execution_count": 8,
      "metadata": {},
      "outputs": [
        {
          "name": "stdout",
          "output_type": "stream",
          "text": [
            "⚙️  Setting up training components...\n",
            "✅ Optimizer: ADAMW\n",
            "✅ Scheduler: cosine\n",
            "✅ Loss: NLLLoss\n",
            "✅ Learning Rate: 0.001\n",
            "✅ Weight Decay: 0.0001\n",
            "🔧 Model moved to device: mps:0\n",
            "✅ Trainer created successfully\n"
          ]
        }
      ],
      "source": [
        "# Setup optimizer and scheduler\n",
        "print(\"⚙️  Setting up training components...\")\n",
        "\n",
        "# Optimizer\n",
        "if config.optimizer == 'adam':\n",
        "    optimizer = optim.Adam(model.parameters(), lr=config.learning_rate, weight_decay=config.weight_decay)\n",
        "elif config.optimizer == 'adamw':\n",
        "    optimizer = optim.AdamW(model.parameters(), lr=config.learning_rate, weight_decay=config.weight_decay)\n",
        "elif config.optimizer == 'sgd':\n",
        "    optimizer = optim.SGD(model.parameters(), lr=config.learning_rate, weight_decay=config.weight_decay, momentum=config.momentum)\n",
        "\n",
        "# Scheduler\n",
        "if config.scheduler == 'cosine':\n",
        "    scheduler = optim.lr_scheduler.CosineAnnealingWarmRestarts(\n",
        "        optimizer, T_0=config.T_0, T_mult=1, eta_min=config.eta_min\n",
        "    )\n",
        "elif config.scheduler == 'step':\n",
        "    scheduler = optim.lr_scheduler.StepLR(optimizer, step_size=config.step_size, gamma=config.gamma)\n",
        "elif config.scheduler == 'plateau':\n",
        "    scheduler = optim.lr_scheduler.ReduceLROnPlateau(optimizer, mode='max', factor=0.5, patience=3)\n",
        "\n",
        "# Loss function\n",
        "criterion = nn.NLLLoss()\n",
        "\n",
        "print(f\"✅ Optimizer: {config.optimizer.upper()}\")\n",
        "print(f\"✅ Scheduler: {config.scheduler}\")\n",
        "print(f\"✅ Loss: NLLLoss\")\n",
        "print(f\"✅ Learning Rate: {config.learning_rate}\")\n",
        "print(f\"✅ Weight Decay: {config.weight_decay}\")\n",
        "\n",
        "# Create trainer\n",
        "trainer = create_trainer(\n",
        "    model=model,\n",
        "    device=device,\n",
        "    train_loader=train_loader,\n",
        "    test_loader=test_loader,\n",
        "    optimizer=optimizer,\n",
        "    criterion=criterion,\n",
        "    scheduler=scheduler,\n",
        "    config=config.to_dict()\n",
        ")\n",
        "\n",
        "print(\"✅ Trainer created successfully\")\n"
      ]
    },
    {
      "cell_type": "code",
      "execution_count": null,
      "metadata": {},
      "outputs": [
        {
          "name": "stdout",
          "output_type": "stream",
          "text": [
            "🚀 Starting training for 20 epochs...\n",
            "⏰ Training started at: 2025-09-28 23:24:21\n",
            "🎯 Target accuracy: 85.0%\n",
            "============================================================\n",
            "📁 Directory structure created in: ./checkpoints\n",
            "🚀 Starting training for 20 epochs...\n",
            "⏰ Training started at: 2025-09-28 23:24:21\n",
            "📁 Checkpoint directory: ./checkpoints\n"
          ]
        },
        {
          "name": "stderr",
          "output_type": "stream",
          "text": [
            "Epoch 1:   0%|          | 0/781 [00:00<?, ?it/s]"
          ]
        },
        {
          "name": "stdout",
          "output_type": "stream",
          "text": [
            "🔍 Debug - Data device: mps:0, Target device: mps:0\n",
            "🔍 Debug - Model device: mps:0\n"
          ]
        },
        {
          "name": "stderr",
          "output_type": "stream",
          "text": [
            "                                                                                    \r"
          ]
        },
        {
          "name": "stdout",
          "output_type": "stream",
          "text": [
            "Epoch  1/20 | Train: 1.4804 (46.03%) | Test: 1.1939 (56.52%) | LR: 0.000976 | Time: 1.0m\n",
            "  🏆 New best model saved! (Test Acc: 56.52%)\n"
          ]
        },
        {
          "name": "stderr",
          "output_type": "stream",
          "text": [
            "Epoch 2:   2%|▏         | 14/781 [00:07<04:37,  2.77it/s, Loss=1.2600, Acc=56.66%] "
          ]
        },
        {
          "name": "stdout",
          "output_type": "stream",
          "text": [
            "🔍 Debug - Data device: mps:0, Target device: mps:0\n",
            "🔍 Debug - Model device: mps:0\n"
          ]
        },
        {
          "name": "stderr",
          "output_type": "stream",
          "text": [
            "                                                                                    \r"
          ]
        },
        {
          "name": "stdout",
          "output_type": "stream",
          "text": [
            "Epoch  2/20 | Train: 1.1825 (57.64%) | Test: 1.0560 (61.55%) | LR: 0.000905 | Time: 58.5s\n",
            "  🏆 New best model saved! (Test Acc: 61.55%)\n"
          ]
        },
        {
          "name": "stderr",
          "output_type": "stream",
          "text": [
            "Epoch 3:   2%|▏         | 15/781 [00:07<04:15,  3.00it/s, Loss=1.2008, Acc=61.26%] "
          ]
        },
        {
          "name": "stdout",
          "output_type": "stream",
          "text": [
            "🔍 Debug - Data device: mps:0, Target device: mps:0\n",
            "🔍 Debug - Model device: mps:0\n"
          ]
        },
        {
          "name": "stderr",
          "output_type": "stream",
          "text": [
            "                                                                                    \r"
          ]
        },
        {
          "name": "stdout",
          "output_type": "stream",
          "text": [
            "Epoch  3/20 | Train: 1.0639 (61.91%) | Test: 0.9670 (65.23%) | LR: 0.000794 | Time: 58.6s\n",
            "  🏆 New best model saved! (Test Acc: 65.23%)\n"
          ]
        },
        {
          "name": "stderr",
          "output_type": "stream",
          "text": [
            "Epoch 4:   2%|▏         | 15/781 [00:06<04:12,  3.03it/s, Loss=0.9347, Acc=64.13%] "
          ]
        },
        {
          "name": "stdout",
          "output_type": "stream",
          "text": [
            "🔍 Debug - Data device: mps:0, Target device: mps:0\n",
            "🔍 Debug - Model device: mps:0\n"
          ]
        },
        {
          "name": "stderr",
          "output_type": "stream",
          "text": [
            "                                                                                    \r"
          ]
        },
        {
          "name": "stdout",
          "output_type": "stream",
          "text": [
            "Epoch  4/20 | Train: 0.9864 (65.21%) | Test: 0.9198 (67.88%) | LR: 0.000655 | Time: 58.4s\n",
            "  🏆 New best model saved! (Test Acc: 67.88%)\n"
          ]
        },
        {
          "name": "stderr",
          "output_type": "stream",
          "text": [
            "Epoch 5:   2%|▏         | 15/781 [00:07<04:16,  2.98it/s, Loss=1.0918, Acc=65.04%] "
          ]
        },
        {
          "name": "stdout",
          "output_type": "stream",
          "text": [
            "🔍 Debug - Data device: mps:0, Target device: mps:0\n",
            "🔍 Debug - Model device: mps:0\n"
          ]
        },
        {
          "name": "stderr",
          "output_type": "stream",
          "text": [
            "                                                                                    \r"
          ]
        },
        {
          "name": "stdout",
          "output_type": "stream",
          "text": [
            "Epoch  5/20 | Train: 0.9302 (67.08%) | Test: 0.8305 (70.87%) | LR: 0.000501 | Time: 58.8s\n",
            "  🏆 New best model saved! (Test Acc: 70.87%)\n"
          ]
        },
        {
          "name": "stderr",
          "output_type": "stream",
          "text": [
            "Epoch 6:   2%|▏         | 14/781 [00:07<04:34,  2.79it/s, Loss=0.7507, Acc=66.92%] "
          ]
        },
        {
          "name": "stdout",
          "output_type": "stream",
          "text": [
            "🔍 Debug - Data device: mps:0, Target device: mps:0\n",
            "🔍 Debug - Model device: mps:0\n"
          ]
        },
        {
          "name": "stderr",
          "output_type": "stream",
          "text": [
            "Test Evaluation:  99%|█████████▉| 156/157 [00:22<00:00, 62.89it/s, Acc=72.73%]      "
          ]
        }
      ],
      "source": [
        "# Start training\n",
        "print(f\"🚀 Starting training for {config.epochs} epochs...\")\n",
        "print(f\"⏰ Training started at: {time.strftime('%Y-%m-%d %H:%M:%S')}\")\n",
        "print(f\"🎯 Target accuracy: {config.target_accuracy}%\")\n",
        "print(\"=\" * 60)\n",
        "\n",
        "# Train the model\n",
        "training_history = trainer.train(\n",
        "    num_epochs=config.epochs,\n",
        "    early_stopping_patience=config.early_stopping_patience,\n",
        "    min_delta=config.min_delta,\n",
        "    checkpoint_dir='./checkpoints',\n",
        "    scheduler_type=config.scheduler,\n",
        "    verbose=True\n",
        ")\n",
        "\n",
        "print(\"\\n✅ Training completed!\")\n"
      ]
    },
    {
      "cell_type": "markdown",
      "metadata": {},
      "source": [
        "## 6. Results Visualization and Analysis\n"
      ]
    },
    {
      "cell_type": "code",
      "execution_count": null,
      "metadata": {},
      "outputs": [],
      "source": [
        "# Display training results\n",
        "print(\"📊 Training Results:\")\n",
        "print(\"=\" * 50)\n",
        "\n",
        "best_train_acc = max(training_history['train_accuracies'])\n",
        "best_test_acc = max(training_history['test_accuracies'])\n",
        "final_train_acc = training_history['train_accuracies'][-1]\n",
        "final_test_acc = training_history['test_accuracies'][-1]\n",
        "\n",
        "print(f\"Best Train Accuracy: {best_train_acc:.2f}%\")\n",
        "print(f\"Best Test Accuracy: {best_test_acc:.2f}%\")\n",
        "print(f\"Final Train Accuracy: {final_train_acc:.2f}%\")\n",
        "print(f\"Final Test Accuracy: {final_test_acc:.2f}%\")\n",
        "print(f\"Total Epochs: {len(training_history['epochs'])}\")\n",
        "print(f\"Target Achievement: {'✅' if best_test_acc >= config.target_accuracy else '❌'} ({config.target_accuracy}%)\")\n",
        "\n",
        "# Overfitting analysis\n",
        "overfitting_gap = final_train_acc - final_test_acc\n",
        "print(f\"\\nOverfitting Analysis:\")\n",
        "print(f\"Train-Test Gap: {overfitting_gap:.2f}%\")\n",
        "if overfitting_gap > 5:\n",
        "    print(\"⚠️  Potential overfitting detected\")\n",
        "elif overfitting_gap < 1:\n",
        "    print(\"✅ Good generalization\")\n",
        "else:\n",
        "    print(\"✅ Reasonable generalization\")\n",
        "\n",
        "# Plot training history\n",
        "print(\"\\n📈 Generating training plots...\")\n",
        "plot_training_history(training_history, show_plot=True)\n",
        "print(\"✅ Training plots generated\")\n"
      ]
    },
    {
      "cell_type": "markdown",
      "metadata": {},
      "source": [
        "## 7. Final Summary and Requirements Verification\n"
      ]
    },
    {
      "cell_type": "code",
      "execution_count": null,
      "metadata": {},
      "outputs": [],
      "source": [
        "# Final evaluation\n",
        "print(\"🔍 Final Model Evaluation:\")\n",
        "print(\"=\" * 40)\n",
        "\n",
        "# Evaluate on test set\n",
        "test_loss, test_accuracy = trainer.evaluate()\n",
        "print(f\"Final Test Loss: {test_loss:.4f}\")\n",
        "print(f\"Final Test Accuracy: {test_accuracy:.2f}%\")\n",
        "\n",
        "# Check if target was achieved\n",
        "target_achieved = test_accuracy >= config.target_accuracy\n",
        "print(f\"\\nTarget Achievement: {'✅' if target_achieved else '❌'}\")\n",
        "if target_achieved:\n",
        "    print(f\"🎉 Congratulations! Achieved {test_accuracy:.2f}% accuracy (target: {config.target_accuracy}%)\")\n",
        "else:\n",
        "    print(f\"📈 Current: {test_accuracy:.2f}%, Target: {config.target_accuracy}%\")\n",
        "    print(f\"📊 Gap: {config.target_accuracy - test_accuracy:.2f}% to reach target\")\n",
        "\n",
        "# Final verification of all requirements\n",
        "print(\"\\n🔍 Final Requirements Verification:\")\n",
        "print(\"=\" * 50)\n",
        "\n",
        "requirements = {\n",
        "    \"C1C2C3C40 Architecture\": True,  # Our architecture\n",
        "    \"No MaxPooling\": True,  # We use stride=2 instead\n",
        "    \"Depthwise Separable Conv\": hasattr(model, 'conv2'),\n",
        "    \"Dilated Convolution\": hasattr(model, 'conv3'),\n",
        "    \"Global Average Pooling\": hasattr(model, 'gap'),\n",
        "    \"Parameters < 200k\": param_count < 200000,\n",
        "    \"Receptive Field > 44\": rf > 44,\n",
        "    \"Albumentation Augmentations\": config.augment,\n",
        "    \"Modular Code Structure\": True,  # Our modular design\n",
        "    \"Generic Training Framework\": True,  # Our trainer\n",
        "    \"Target Accuracy (85%)\": test_accuracy >= 85.0\n",
        "}\n",
        "\n",
        "for requirement, status in requirements.items():\n",
        "    status_icon = \"✅\" if status else \"❌\"\n",
        "    print(f\"{status_icon} {requirement}\")\n",
        "\n",
        "passed = sum(requirements.values())\n",
        "total = len(requirements)\n",
        "print(f\"\\n📊 Requirements Passed: {passed}/{total} ({passed/total*100:.1f}%)\")\n",
        "\n",
        "if passed == total:\n",
        "    print(\"🎉 ALL REQUIREMENTS MET!\")\n",
        "else:\n",
        "    print(f\"⚠️  {total - passed} requirements not met\")\n",
        "\n",
        "# Print final summary\n",
        "print(\"\\n\" + \"=\"*60)\n",
        "print(\"🎉 TRAINING COMPLETED SUCCESSFULLY!\")\n",
        "print(\"=\"*60)\n",
        "print(f\"📊 Final Test Accuracy: {test_accuracy:.2f}%\")\n",
        "print(f\"🎯 Target Accuracy: {config.target_accuracy}%\")\n",
        "print(f\"✅ Target Achieved: {'Yes' if target_achieved else 'No'}\")\n",
        "print(f\"📈 Total Epochs: {len(training_history['epochs'])}\")\n",
        "print(f\"🔧 Parameters: {param_count:,} (< 200k)\")\n",
        "print(f\"📏 Receptive Field: {rf} (> 44)\")\n",
        "print(f\"🖥️  Device Used: {device}\")\n",
        "print(\"=\"*60)\n"
      ]
    },
    {
      "cell_type": "code",
      "execution_count": null,
      "metadata": {},
      "outputs": [],
      "source": []
    }
  ],
  "metadata": {
    "kernelspec": {
      "display_name": "cifar10",
      "language": "python",
      "name": "python3"
    },
    "language_info": {
      "codemirror_mode": {
        "name": "ipython",
        "version": 3
      },
      "file_extension": ".py",
      "mimetype": "text/x-python",
      "name": "python",
      "nbconvert_exporter": "python",
      "pygments_lexer": "ipython3",
      "version": "3.12.11"
    }
  },
  "nbformat": 4,
  "nbformat_minor": 2
}
